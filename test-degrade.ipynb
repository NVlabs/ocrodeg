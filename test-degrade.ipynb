{
 "cells": [
  {
   "cell_type": "code",
   "execution_count": null,
   "metadata": {
    "slideshow": {
     "slide_type": "skip"
    }
   },
   "outputs": [],
   "source": [
    "%pylab inline"
   ]
  },
  {
   "cell_type": "code",
   "execution_count": null,
   "metadata": {
    "slideshow": {
     "slide_type": "skip"
    }
   },
   "outputs": [],
   "source": [
    "rc(\"image\", cmap=\"gray\", interpolation=\"bicubic\")\n",
    "figsize(10, 10)\n",
    "import scipy.ndimage as ndi\n",
    "import warnings\n",
    "warnings.filterwarnings(\"always\")\n",
    "import ocrodeg"
   ]
  },
  {
   "cell_type": "markdown",
   "metadata": {},
   "source": [
    "# ocrodeg\n",
    "\n",
    "The `ocrodeg` package is a small Python library implementing document image degradation for data augmentation for handwriting recognition and OCR applications."
   ]
  },
  {
   "cell_type": "markdown",
   "metadata": {
    "slideshow": {
     "slide_type": "slide"
    }
   },
   "source": [
    "# DATA AUGMENTATION"
   ]
  },
  {
   "cell_type": "markdown",
   "metadata": {
    "slideshow": {
     "slide_type": "slide"
    }
   },
   "source": [
    "# Data Augmentation for OCR\n",
    "\n",
    "- labeled training data is expensive, hard to come by\n",
    "- we have large amounts of unlabeled training data\n",
    "- unlabeled training data can be acquired cheaply and at high quality\n",
    "- degradation and augmentation models are good enough to generalize well to real data"
   ]
  },
  {
   "cell_type": "markdown",
   "metadata": {
    "slideshow": {
     "slide_type": "slide"
    }
   },
   "source": [
    "# Common OCR Training Pipeline\n",
    "\n",
    "![augmentation figure](figs/augmentation.png)"
   ]
  },
  {
   "cell_type": "code",
   "execution_count": null,
   "metadata": {
    "slideshow": {
     "slide_type": "slide"
    }
   },
   "outputs": [],
   "source": [
    "image = imread(\"testdata/W1P0.png\")\n",
    "imshow(image)"
   ]
  },
  {
   "cell_type": "markdown",
   "metadata": {
    "slideshow": {
     "slide_type": "slide"
    }
   },
   "source": [
    "# PAGE ROTATION"
   ]
  },
  {
   "cell_type": "code",
   "execution_count": null,
   "metadata": {
    "slideshow": {
     "slide_type": "slide"
    }
   },
   "outputs": [],
   "source": [
    "for i, angle in enumerate([0, 90, 180, 270]):\n",
    "    subplot(2, 2, i+1)\n",
    "    imshow(ndi.rotate(image, angle))"
   ]
  },
  {
   "cell_type": "markdown",
   "metadata": {
    "slideshow": {
     "slide_type": "slide"
    }
   },
   "source": [
    "# RANDOM GEOMETRIC TRANSFORMATIONS"
   ]
  },
  {
   "cell_type": "code",
   "execution_count": null,
   "metadata": {
    "slideshow": {
     "slide_type": "slide"
    }
   },
   "outputs": [],
   "source": [
    "for i, angle in enumerate([-2, -1, 0, 1]):\n",
    "    subplot(2, 2, i+1)\n",
    "    imshow(ocrodeg.transform_image(image, angle=angle*pi/180))"
   ]
  },
  {
   "cell_type": "code",
   "execution_count": null,
   "metadata": {
    "slideshow": {
     "slide_type": "slide"
    }
   },
   "outputs": [],
   "source": [
    "for i, angle in enumerate([-2, -1, 0, 1]):\n",
    "    subplot(2, 2, i+1)\n",
    "    imshow(ocrodeg.transform_image(image, angle=angle*pi/180)[1000:1500, 750:1250])"
   ]
  },
  {
   "cell_type": "code",
   "execution_count": null,
   "metadata": {
    "slideshow": {
     "slide_type": "slide"
    }
   },
   "outputs": [],
   "source": [
    "for i, aniso in enumerate([0.5, 1.0, 1.5, 2.0]):\n",
    "    subplot(2, 2, i+1)\n",
    "    imshow(ocrodeg.transform_image(image, aniso=aniso))"
   ]
  },
  {
   "cell_type": "code",
   "execution_count": null,
   "metadata": {
    "slideshow": {
     "slide_type": "slide"
    }
   },
   "outputs": [],
   "source": [
    "for i, aniso in enumerate([0.5, 1.0, 1.5, 2.0]):\n",
    "    subplot(2, 2, i+1)\n",
    "    imshow(ocrodeg.transform_image(image, aniso=aniso)[1000:1500, 750:1250])"
   ]
  },
  {
   "cell_type": "code",
   "execution_count": null,
   "metadata": {
    "slideshow": {
     "slide_type": "slide"
    }
   },
   "outputs": [],
   "source": [
    "for i, scale in enumerate([0.5, 0.9, 1.0, 2.0]):\n",
    "    subplot(2, 2, i+1)\n",
    "    imshow(ocrodeg.transform_image(image, scale=scale))"
   ]
  },
  {
   "cell_type": "code",
   "execution_count": null,
   "metadata": {
    "scrolled": true,
    "slideshow": {
     "slide_type": "slide"
    }
   },
   "outputs": [],
   "source": [
    "for i, scale in enumerate([0.5, 0.9, 1.0, 2.0]):\n",
    "    subplot(2, 2, i+1)\n",
    "    h, w = image.shape\n",
    "    imshow(ocrodeg.transform_image(image, scale=scale)[h//2-200:h//2+200, w//3-200:w//3+200])"
   ]
  },
  {
   "cell_type": "markdown",
   "metadata": {
    "slideshow": {
     "slide_type": "slide"
    }
   },
   "source": [
    "# RANDOM DISTORTIONS"
   ]
  },
  {
   "cell_type": "code",
   "execution_count": null,
   "metadata": {
    "slideshow": {
     "slide_type": "slide"
    }
   },
   "outputs": [],
   "source": [
    "for i, sigma in enumerate([1.0, 2.0, 5.0, 20.0]):\n",
    "    subplot(2, 2, i+1)\n",
    "    noise = ocrodeg.bounded_gaussian_noise(image.shape, sigma, 5.0)\n",
    "    distorted = ocrodeg.distort_with_noise(image, noise)\n",
    "    h, w = image.shape\n",
    "    imshow(distorted[h//2-200:h//2+200, w//3-200:w//3+200])"
   ]
  },
  {
   "cell_type": "markdown",
   "metadata": {
    "slideshow": {
     "slide_type": "slide"
    }
   },
   "source": [
    "# RULED SURFACE DISTORTIONS"
   ]
  },
  {
   "cell_type": "code",
   "execution_count": null,
   "metadata": {
    "slideshow": {
     "slide_type": "slide"
    }
   },
   "outputs": [],
   "source": [
    "for i, mag in enumerate([5.0, 20.0, 100.0, 200.0]):\n",
    "    subplot(2, 2, i+1)\n",
    "    noise = ocrodeg.noise_distort1d(image.shape, magnitude=mag)\n",
    "    distorted = ocrodeg.distort_with_noise(image, noise)\n",
    "    h, w = image.shape\n",
    "    imshow(distorted[:1500])"
   ]
  },
  {
   "cell_type": "markdown",
   "metadata": {
    "slideshow": {
     "slide_type": "slide"
    }
   },
   "source": [
    "# BLUR, THRESHOLDING, NOISE"
   ]
  },
  {
   "cell_type": "code",
   "execution_count": null,
   "metadata": {
    "slideshow": {
     "slide_type": "slide"
    }
   },
   "outputs": [],
   "source": [
    "patch = image[1900:2156, 1000:1256]\n",
    "imshow(patch)"
   ]
  },
  {
   "cell_type": "code",
   "execution_count": null,
   "metadata": {
    "slideshow": {
     "slide_type": "slide"
    }
   },
   "outputs": [],
   "source": [
    "for i, s in enumerate([0, 1, 2, 4]):\n",
    "    subplot(2, 2, i+1)\n",
    "    blurred = ndi.gaussian_filter(patch, s)\n",
    "    imshow(blurred)"
   ]
  },
  {
   "cell_type": "code",
   "execution_count": null,
   "metadata": {
    "slideshow": {
     "slide_type": "slide"
    }
   },
   "outputs": [],
   "source": [
    "for i, s in enumerate([0, 1, 2, 4]):\n",
    "    subplot(2, 2, i+1)\n",
    "    blurred = ndi.gaussian_filter(patch, s)\n",
    "    thresholded = 1.0*(blurred>0.5)\n",
    "    imshow(thresholded)"
   ]
  },
  {
   "cell_type": "code",
   "execution_count": null,
   "metadata": {
    "slideshow": {
     "slide_type": "slide"
    }
   },
   "outputs": [],
   "source": [
    "for i, s in enumerate([0.0, 1.0, 2.0, 4.0]):\n",
    "    subplot(2, 2, i+1)\n",
    "    blurred = ocrodeg.binary_blur(patch, s)\n",
    "    imshow(blurred)\n"
   ]
  },
  {
   "cell_type": "code",
   "execution_count": null,
   "metadata": {
    "slideshow": {
     "slide_type": "slide"
    }
   },
   "outputs": [],
   "source": [
    "for i, s in enumerate([0.0, 0.1, 0.2, 0.3]):\n",
    "    subplot(2, 2, i+1)\n",
    "    blurred = ocrodeg.binary_blur(patch, 2.0, noise=s)\n",
    "    imshow(blurred)"
   ]
  },
  {
   "cell_type": "markdown",
   "metadata": {
    "slideshow": {
     "slide_type": "slide"
    }
   },
   "source": [
    "# MULTISCALE NOISE"
   ]
  },
  {
   "cell_type": "code",
   "execution_count": null,
   "metadata": {
    "scrolled": true,
    "slideshow": {
     "slide_type": "slide"
    }
   },
   "outputs": [],
   "source": [
    "for i in range(4):\n",
    "    noisy = ocrodeg.make_multiscale_noise_uniform((512, 512))\n",
    "    subplot(2, 2, i+1); imshow(noisy, vmin=0, vmax=1)"
   ]
  },
  {
   "cell_type": "markdown",
   "metadata": {
    "slideshow": {
     "slide_type": "slide"
    }
   },
   "source": [
    "# RANDOM BLOBS"
   ]
  },
  {
   "cell_type": "code",
   "execution_count": null,
   "metadata": {
    "slideshow": {
     "slide_type": "slide"
    }
   },
   "outputs": [],
   "source": [
    "for i, s in enumerate([2, 5, 10, 20]):\n",
    "    subplot(2, 2, i+1)\n",
    "    imshow(ocrodeg.random_blobs(patch.shape, 3e-4, s))"
   ]
  },
  {
   "cell_type": "code",
   "execution_count": null,
   "metadata": {
    "slideshow": {
     "slide_type": "slide"
    }
   },
   "outputs": [],
   "source": [
    "blotched = ocrodeg.random_blotches(patch, 3e-4, 1e-4)\n",
    "#blotched = minimum(maximum(patch, ocrodeg.random_blobs(patch.shape, 30, 10)), 1-ocrodeg.random_blobs(patch.shape, 15, 8))\n",
    "subplot(121); imshow(patch); subplot(122); imshow(blotched)"
   ]
  },
  {
   "cell_type": "markdown",
   "metadata": {
    "slideshow": {
     "slide_type": "slide"
    }
   },
   "source": [
    "# FIBROUS NOISE"
   ]
  },
  {
   "cell_type": "code",
   "execution_count": null,
   "metadata": {
    "slideshow": {
     "slide_type": "slide"
    }
   },
   "outputs": [],
   "source": [
    "imshow(ocrodeg.make_fibrous_image((256, 256), 700, 300, 0.01))"
   ]
  },
  {
   "cell_type": "markdown",
   "metadata": {
    "slideshow": {
     "slide_type": "slide"
    }
   },
   "source": [
    "# FOREGROUND / BACKGROUND SELECTION"
   ]
  },
  {
   "cell_type": "code",
   "execution_count": null,
   "metadata": {
    "slideshow": {
     "slide_type": "slide"
    }
   },
   "outputs": [],
   "source": [
    "subplot(121); imshow(patch); subplot(122); imshow(ocrodeg.printlike_multiscale(patch))"
   ]
  },
  {
   "cell_type": "code",
   "execution_count": null,
   "metadata": {
    "slideshow": {
     "slide_type": "slide"
    }
   },
   "outputs": [],
   "source": [
    "subplot(121); imshow(patch); subplot(122); imshow(ocrodeg.printlike_fibrous(patch))"
   ]
  },
  {
   "cell_type": "code",
   "execution_count": null,
   "metadata": {
    "slideshow": {
     "slide_type": "slide"
    }
   },
   "outputs": [],
   "source": []
  }
 ],
 "metadata": {
  "celltoolbar": "Slideshow",
  "kernelspec": {
   "display_name": "Python 3",
   "language": "python",
   "name": "python3"
  },
  "language_info": {
   "codemirror_mode": {
    "name": "ipython",
    "version": 3
   },
   "file_extension": ".py",
   "mimetype": "text/x-python",
   "name": "python",
   "nbconvert_exporter": "python",
   "pygments_lexer": "ipython3",
   "version": "3.6.5"
  }
 },
 "nbformat": 4,
 "nbformat_minor": 2
}
